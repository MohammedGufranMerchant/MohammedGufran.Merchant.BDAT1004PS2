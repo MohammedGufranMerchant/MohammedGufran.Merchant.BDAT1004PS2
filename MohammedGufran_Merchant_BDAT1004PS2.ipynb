{
  "nbformat": 4,
  "nbformat_minor": 0,
  "metadata": {
    "colab": {
      "provenance": [],
      "toc_visible": true
    },
    "kernelspec": {
      "name": "python3",
      "display_name": "Python 3"
    },
    "language_info": {
      "name": "python"
    }
  },
  "cells": [
    {
      "cell_type": "markdown",
      "source": [
        "##Question 1\n",
        "\n",
        "Consider the following Python module:\n",
        "\n",
        "\n",
        "\n",
        "```\n",
        "a = 0\n",
        "def  b():\n",
        "global  a\n",
        "a  = c(a)  \n",
        "\n",
        "def  c(a):\n",
        "return  a  +  2  \n",
        "\n",
        "After importing the module into the interpreter, you execute:  \n",
        ">>> b()\n",
        ">>> b()\n",
        ">>> b()\n",
        ">>> a ?\n",
        "```\n",
        "\n",
        "What value is displayed when the last expression (a) is evaluated? Explain your answer by indicating what happens in every executed statement.\n",
        "\n",
        "##Answer:\n",
        "\n",
        "- When the last expression a is evaluated after executing the statements b(), b(), and b(), the value displayed would be 6.\n",
        "\n",
        "- Initially, the variable a is assigned the value of 0 outside of any function.\n",
        "- The function b() is defined. Inside b(), the global keyword is used to indicate that the variable a being referenced is the global variable a defined outside the function. Within b(), the line a = c(a) is executed. This line calls the function c() with the current value of a (which is 0). The function c(a) returns a + 2, so c(0) returns 0 + 2 = 2. The returned value is then assigned back to the global variable a, updating its value to 2.\n",
        "- The third call to b() is made with b(). Inside b(), the value of a is now 6. The same steps are executed, but this time, the updated value of a is not assigned to any variable or returned. Therefore, the value of a remains 6."
      ],
      "metadata": {
        "id": "8CE1j7AJIbh1"
      }
    },
    {
      "cell_type": "markdown",
      "source": [
        "##Question 2\n",
        "\n",
        "Function fileLength(), given to you, takes the name of a file as input and returns the length of the file:  \n",
        "\n",
        ">>>  fileLength('midterm.py') 284\n",
        "\n",
        ">>>  fileLength('idterm.py')\n",
        "\n",
        "\n",
        "\n",
        "```\n",
        "Traceback  (most  recent  call  last): File  \"<pyshell#34>\",  line  1,  in  <module> fileLength('idterm.py') File  \"/Users/me/midterm.py\",  line  3,  in  fileLength infile  =  open(filename) FileNotFoundError:  [Errno  2]  No  such  file  or  directory: 'idterm.py'\n",
        "```\n",
        "\n",
        "  - As shown above, if the file cannot be found by the interpreter or if it cannot be read as a text file, an exception will be raised. Modify function fileLength() so that a friendly message is printed instead:  \n",
        "  \n",
        "  >>>  fileLength('midterm.py') 358\n",
        "  \n",
        "  >>>  fileLength('idterm.py') File  idterm.py  not  found."
      ],
      "metadata": {
        "id": "gtlpV1SqH7SD"
      }
    },
    {
      "cell_type": "code",
      "execution_count": 1,
      "metadata": {
        "id": "rX7XHLnnqRHy"
      },
      "outputs": [],
      "source": [
        "def file_length(file_name):\n",
        "  try:\n",
        "    file = open(file_name)\n",
        "    contents = file.read()\n",
        "    file.close()\n",
        "    print(len(contents))\n",
        "  except FileNotFoundError:\n",
        "    print(\"File\", file_name, \"not found.\")"
      ]
    },
    {
      "cell_type": "code",
      "source": [
        "file_length(\"/content/Filelength(1).txt\")"
      ],
      "metadata": {
        "colab": {
          "base_uri": "https://localhost:8080/"
        },
        "id": "2WKRC5DGrC2G",
        "outputId": "52445ff0-efa4-4c0a-a6a8-d9a4ae3afb23"
      },
      "execution_count": 2,
      "outputs": [
        {
          "output_type": "stream",
          "name": "stdout",
          "text": [
            "123\n"
          ]
        }
      ]
    },
    {
      "cell_type": "code",
      "source": [
        "file_length(\"/content/Filelength.txt\")"
      ],
      "metadata": {
        "colab": {
          "base_uri": "https://localhost:8080/"
        },
        "id": "iLbLI-cYrKPA",
        "outputId": "40873217-ab9f-45b0-84c6-93c0dcf2b615"
      },
      "execution_count": 3,
      "outputs": [
        {
          "output_type": "stream",
          "name": "stdout",
          "text": [
            "File /content/Filelength.txt not found.\n"
          ]
        }
      ]
    },
    {
      "cell_type": "markdown",
      "source": [
        "##Question 3\n",
        "\n",
        "- Write a class named Marsupial that can be used as shown below:  \n",
        "\n",
        ">>>  m  =  Marsupial()\n",
        "\n",
        ">>>  m.put_in_pouch('doll')\n",
        "\n",
        ">>>  m.put_in_pouch('firetruck')\n",
        "\n",
        ">>>  m.put_in_pouch('kitten')\n",
        "\n",
        ">>>  m.pouch_contents()  ['doll',  'firetruck',  'kitten']\n",
        "\n",
        "- Now write a class named Kangaroo as a subclass of Marsupial that inherits all the attributes of Marsupial and also: a. extends the Marsupial  __init__ constructor to take, as input, the coordinates x and y of the Kangaroo object, b. supports method jump that takes number values dx and dy as input and moves the kangaroo by dx units along the x-axis and by dy units along the y- axis, and c. overloads the __str__ operator so it behaves as shown below.  \n",
        "\n",
        ">>>  k  =  Kangaroo(0,0)\n",
        "\n",
        ">>>  print(k) I  am  a  Kangaroo  located  at  coordinates  (0,0)\n",
        "\n",
        ">>>  k.put_in_pouch('doll')\n",
        "\n",
        ">>>  k.put_in_pouch('firetruck')\n",
        "\n",
        ">>>  k.put_in_pouch('kitten')\n",
        "\n",
        ">>>  k.pouch_contents()  ['doll',  'firetruck',  'kitten']\n",
        "\n",
        ">>>  k.jump(1,0)\n",
        "\n",
        ">>>  k.jump(1,0)\n",
        "\n",
        ">>>  k.jump(1,0)\n",
        "\n",
        ">>>  print(k) I  am  a  Kangaroo  located  at  coordinates  (3,0)"
      ],
      "metadata": {
        "id": "zgBCEsu-HGJ1"
      }
    },
    {
      "cell_type": "code",
      "source": [
        "class Marsupial:\n",
        "    def __init__(self):\n",
        "        self.pouch = []\n",
        "\n",
        "    def put_in_pouch(self, item):\n",
        "        self.pouch.append(item)\n",
        "\n",
        "    def pouch_contents(self):\n",
        "        return self.pouch\n",
        "\n",
        "\n",
        "class Kangaroo(Marsupial):\n",
        "    def __init__(self, x, y):\n",
        "        super().__init__()\n",
        "        self.x = x\n",
        "        self.y = y\n",
        "\n",
        "    def jump(self, dx, dy):\n",
        "        self.x += dx\n",
        "        self.y += dy\n",
        "\n",
        "    def __str__(self):\n",
        "        return \"I am a Kangaroo located at coordinates ({},{})\".format(self.x, self.y)\n"
      ],
      "metadata": {
        "id": "SdP5AlBorPB4"
      },
      "execution_count": 4,
      "outputs": []
    },
    {
      "cell_type": "code",
      "source": [
        "m = Marsupial()\n",
        "m.put_in_pouch('doll')\n",
        "m.put_in_pouch('firetruck')\n",
        "m.put_in_pouch('kitten')\n",
        "print(m.pouch_contents())\n",
        "\n",
        "k = Kangaroo(0, 0)\n",
        "print(k)\n",
        "k.put_in_pouch('doll')\n",
        "k.put_in_pouch('firetruck')\n",
        "k.put_in_pouch('kitten')\n",
        "print(k.pouch_contents())\n",
        "k.jump(1, 0)\n",
        "k.jump(1, 0)\n",
        "k.jump(1, 0)\n",
        "print(k)"
      ],
      "metadata": {
        "colab": {
          "base_uri": "https://localhost:8080/"
        },
        "id": "is351FlHr8ok",
        "outputId": "ee31bef2-f8d2-455b-83fb-b21803fb3a93"
      },
      "execution_count": 6,
      "outputs": [
        {
          "output_type": "stream",
          "name": "stdout",
          "text": [
            "['doll', 'firetruck', 'kitten']\n",
            "I am a Kangaroo located at coordinates (0,0)\n",
            "['doll', 'firetruck', 'kitten']\n",
            "I am a Kangaroo located at coordinates (3,0)\n"
          ]
        }
      ]
    },
    {
      "cell_type": "markdown",
      "source": [
        "##Question 4\n",
        "\n",
        "- Write function collatz() that takes a positive integer x as input and prints the Collatz sequence starting at x. A Collatz sequence is obtained by repeatedly applying this rule to the previous number x in the sequence:  \n",
        "\n",
        "x = {  𝑥/2 𝑖𝑓 𝑥 𝑖𝑠 𝑒𝑣𝑒𝑛 3𝑥\n",
        "\n",
        "x = {  + 1 𝑖𝑓 𝑥 𝑖𝑠 𝑜𝑑𝑑  \n",
        "\n",
        "- Your function should stop when the sequence gets to number 1. Your implementation must be recursive, without any loops.\n",
        "\n",
        ">>>  collatz(1)\n",
        "\n",
        "1\n",
        "\n",
        ">>>  collatz(10)\n",
        "\n",
        "10\n",
        "5\n",
        "16\n",
        "8\n",
        "4\n",
        "2\n",
        "1"
      ],
      "metadata": {
        "id": "kCesmp6uFwut"
      }
    },
    {
      "cell_type": "code",
      "source": [
        "def collatz(x):\n",
        "    print(x)\n",
        "    if x == 1:\n",
        "        return\n",
        "    elif x % 2 == 0:\n",
        "        collatz(x // 2)\n",
        "    else:\n",
        "        collatz(3 * x + 1)"
      ],
      "metadata": {
        "id": "tf_wgUn-sIMh"
      },
      "execution_count": 7,
      "outputs": []
    },
    {
      "cell_type": "code",
      "source": [
        "collatz(1)\n",
        "collatz(10)"
      ],
      "metadata": {
        "colab": {
          "base_uri": "https://localhost:8080/"
        },
        "id": "R8V_jBNFtVst",
        "outputId": "b803cb7e-670c-4d93-cbc3-bfab1336c64b"
      },
      "execution_count": 9,
      "outputs": [
        {
          "output_type": "stream",
          "name": "stdout",
          "text": [
            "1\n",
            "10\n",
            "5\n",
            "16\n",
            "8\n",
            "4\n",
            "2\n",
            "1\n"
          ]
        }
      ]
    },
    {
      "cell_type": "markdown",
      "source": [
        "##Question 5\n",
        "\n",
        "Write a recursive method binary() that takes a non-negative integer n and prints the binary representation of integer n.  \n",
        "\n",
        ">>  binary(0) 0\n",
        "\n",
        ">>  binary(1) 1\n",
        "\n",
        ">>  binary(3) 11\n",
        "\n",
        ">>  binary(9) 1001"
      ],
      "metadata": {
        "id": "x6CEQQt6FXsv"
      }
    },
    {
      "cell_type": "code",
      "source": [
        "def binary(n):\n",
        "    if n > 1:\n",
        "        binary(n // 2)\n",
        "    print(n % 2, end=' ')\n",
        ""
      ],
      "metadata": {
        "id": "KU_iCSwDtwoL"
      },
      "execution_count": 39,
      "outputs": []
    },
    {
      "cell_type": "code",
      "source": [
        "A = binary(0)  # Output: 0\n",
        "B = binary(1)  # Output: 1\n",
        "C = binary(3)  # Output: 11\n",
        "D = binary(9)  # Output: 1001"
      ],
      "metadata": {
        "colab": {
          "base_uri": "https://localhost:8080/"
        },
        "id": "ECw8gRYMuPrU",
        "outputId": "1f0d3b67-a462-42ad-a949-5cdb754a0a3c"
      },
      "execution_count": 40,
      "outputs": [
        {
          "output_type": "stream",
          "name": "stdout",
          "text": [
            "0 1 1 1 1 0 0 1 "
          ]
        }
      ]
    },
    {
      "cell_type": "markdown",
      "source": [
        "##Question 6\n",
        "\n",
        "- Implement a class named HeadingParser that can be used to parse an HTML document, and retrieve and print all the headings in the document. You should implement your class as a subclass of HTMLParser, defined in Standard Library module html.parser. When fed a string containing HTML code, your class should print the headings, one per line and in the order in which they appear in the document. Each heading should be indented as follows: an h1 heading should have indentation 0, and h2 heading should have indentation 1, etc. Test your implementation using w3c.html.  \n",
        "\n",
        ">>>  infile  =  open('w3c.html')\n",
        "\n",
        ">>>  content  =  infile.read()\n",
        "\n",
        ">>>  infile.close()\n",
        "\n",
        ">>>  hp  =  HeadingParser()\n",
        "\n",
        ">>>  hp.feed(content)\n",
        "\n",
        "- W3C  \n",
        "- Mission Principles"
      ],
      "metadata": {
        "id": "krYYMbV6Eo3k"
      }
    },
    {
      "cell_type": "code",
      "source": [
        "from html.parser import HTMLParser\n",
        "\n",
        "\n",
        "class HeadingParser(HTMLParser):\n",
        "    def __init__(self):\n",
        "        super().__init__()\n",
        "        self.indentation_level = 0\n",
        "        self.ignore_data = False\n",
        "\n",
        "    def handle_starttag(self, tag, attrs):\n",
        "        if tag.startswith('h'):\n",
        "            try:\n",
        "                self.indentation_level = int(tag[1:]) - 1\n",
        "            except ValueError:\n",
        "                self.indentation_level = 0\n",
        "        elif tag == 'title':\n",
        "            self.ignore_data = True\n",
        "\n",
        "    def handle_endtag(self, tag):\n",
        "        if tag == 'title':\n",
        "            self.ignore_data = False\n",
        "\n",
        "    def handle_data(self, data):\n",
        "        stripped_data = data.strip()\n",
        "        if stripped_data and not self.ignore_data and self.indentation_level >= 0:\n",
        "            heading_text = stripped_data.lstrip()\n",
        "            print(' ' * self.indentation_level + heading_text)"
      ],
      "metadata": {
        "id": "bZRNtEtouSHW"
      },
      "execution_count": 52,
      "outputs": []
    },
    {
      "cell_type": "code",
      "source": [
        "# Test the implementation\n",
        "infile = open('/content/w3c.html')\n",
        "content = infile.read()\n",
        "infile.close()\n",
        "\n",
        "hp = HeadingParser()\n",
        "hp.feed(content)"
      ],
      "metadata": {
        "colab": {
          "base_uri": "https://localhost:8080/"
        },
        "id": "M4GauOFhx22G",
        "outputId": "03894351-13c5-4b01-bca1-a1a3ff383a1d"
      },
      "execution_count": 53,
      "outputs": [
        {
          "output_type": "stream",
          "name": "stdout",
          "text": [
            "W3C Mission\n",
            " Principles\n"
          ]
        }
      ]
    },
    {
      "cell_type": "markdown",
      "source": [
        "##Question 7\n",
        "\n",
        "- Implement recursive function webdir() that takes as input: a URL (as a string) and non-negative integers depth and indent. Your function should visit every web page reachable from the starting URL web page in depth clicks or less, and print each web page's URL. As shown below, indentation, specified by indent,  should be used to indicate the depth of a URL.  \n",
        "\n",
        ">>> webdir('http://reed.cs.depaul.edu/lperkovic/csc242/test1.html' ,  2,  0)\n",
        "\n",
        ">http://reed.cs.depaul.edu/lperkovic/csc242/test1.html\n",
        "\n",
        ">http://reed.cs.depaul.edu/lperkovic/csc242/test2.html\n",
        "\n",
        ">http://reed.cs.depaul.edu/lperkovic/csc242/test4.html\n",
        "\n",
        ">http://reed.cs.depaul.edu/lperkovic/csc242/test3.html\n",
        "\n",
        ">http://reed.cs.depaul.edu/lperkovic/csc242/test4.html"
      ],
      "metadata": {
        "id": "kMD5e8YnC-H6"
      }
    },
    {
      "cell_type": "code",
      "source": [
        "import urllib.request\n",
        "from urllib.parse import urljoin\n",
        "from urllib.error import HTTPError\n",
        "from bs4 import BeautifulSoup\n",
        "\n",
        "\n",
        "def webdir(url, depth, indent):\n",
        "    if depth < 0:\n",
        "        return\n",
        "\n",
        "    try:\n",
        "        print('Fetching:', url)\n",
        "        response = urllib.request.urlopen(url)\n",
        "        soup = BeautifulSoup(response.read(), 'html.parser')\n",
        "        print(' ' * indent + url)\n",
        "\n",
        "        if depth == 0:\n",
        "            return\n",
        "\n",
        "        links = soup.find_all('a')\n",
        "        for link in links:\n",
        "            href = link.get('href')\n",
        "            absolute_url = urljoin(url, href)\n",
        "            try:\n",
        "                webdir(absolute_url, depth - 1, indent + 4)\n",
        "            except HTTPError:\n",
        "                continue\n",
        "\n",
        "    except (urllib.error.URLError, ValueError) as e:\n",
        "        print('Error:', e)\n",
        "        return\n"
      ],
      "metadata": {
        "id": "1f10XKn-7BNZ"
      },
      "execution_count": 5,
      "outputs": []
    },
    {
      "cell_type": "code",
      "source": [
        "webdir('http://reed.cs.depaul.edu/lperkovic/csc242/test1.html', 2, 0)"
      ],
      "metadata": {
        "colab": {
          "base_uri": "https://localhost:8080/"
        },
        "id": "-6Z-lOa78PXE",
        "outputId": "5bbe6205-ff68-4b48-f5d8-c49a3549316a"
      },
      "execution_count": 6,
      "outputs": [
        {
          "output_type": "stream",
          "name": "stdout",
          "text": [
            "Fetching: http://reed.cs.depaul.edu/lperkovic/csc242/test1.html\n",
            "Error: HTTP Error 404: \n"
          ]
        }
      ]
    },
    {
      "cell_type": "markdown",
      "source": [
        "###*While trying to fetch the links, I realised that its giving me an **Error 404**. Thus, I tried to check the code with a common public link and the code works well.*"
      ],
      "metadata": {
        "id": "0o2HlRjVDovy"
      }
    },
    {
      "cell_type": "code",
      "source": [
        "webdir('https://www.python.org/', 1, 0)"
      ],
      "metadata": {
        "colab": {
          "base_uri": "https://localhost:8080/"
        },
        "id": "D1QK-rYj8SBP",
        "outputId": "4fb1362e-18e1-49c6-9c19-6fed47729675"
      },
      "execution_count": 8,
      "outputs": [
        {
          "output_type": "stream",
          "name": "stdout",
          "text": [
            "Fetching: https://www.python.org/\n",
            "https://www.python.org/\n",
            "Fetching: https://www.python.org/#content\n",
            "    https://www.python.org/#content\n",
            "Fetching: https://www.python.org/#python-network\n",
            "    https://www.python.org/#python-network\n",
            "Fetching: https://www.python.org/\n",
            "    https://www.python.org/\n",
            "Fetching: https://www.python.org/psf/\n",
            "    https://www.python.org/psf/\n",
            "Fetching: https://docs.python.org\n",
            "    https://docs.python.org\n",
            "Fetching: https://pypi.org/\n",
            "    https://pypi.org/\n",
            "Fetching: https://www.python.org/jobs/\n",
            "    https://www.python.org/jobs/\n",
            "Fetching: https://www.python.org/community-landing/\n",
            "    https://www.python.org/community-landing/\n",
            "Fetching: https://www.python.org/#top\n",
            "    https://www.python.org/#top\n",
            "Fetching: https://www.python.org/\n",
            "    https://www.python.org/\n",
            "Fetching: https://psfmember.org/civicrm/contribute/transact?reset=1&id=2\n",
            "    https://psfmember.org/civicrm/contribute/transact?reset=1&id=2\n",
            "Fetching: https://www.python.org/#site-map\n",
            "    https://www.python.org/#site-map\n",
            "Fetching: https://www.python.org/\n",
            "    https://www.python.org/\n",
            "Fetching: javascript:;\n",
            "Error: <urlopen error unknown url type: javascript>\n",
            "Fetching: javascript:;\n",
            "Error: <urlopen error unknown url type: javascript>\n",
            "Fetching: javascript:;\n",
            "Error: <urlopen error unknown url type: javascript>\n",
            "Fetching: https://www.python.org/\n",
            "    https://www.python.org/\n",
            "Fetching: https://www.facebook.com/pythonlang?fref=ts\n",
            "    https://www.facebook.com/pythonlang?fref=ts\n",
            "Fetching: https://twitter.com/ThePSF\n",
            "Error: HTTP Error 302: The HTTP server returned a redirect error that would lead to an infinite loop.\n",
            "The last 30x error message was:\n",
            "Found\n",
            "Fetching: https://www.python.org/community/irc/\n",
            "    https://www.python.org/community/irc/\n",
            "Fetching: https://www.python.org/about/\n",
            "    https://www.python.org/about/\n",
            "Fetching: https://www.python.org/about/apps/\n",
            "    https://www.python.org/about/apps/\n",
            "Fetching: https://www.python.org/about/quotes/\n",
            "    https://www.python.org/about/quotes/\n",
            "Fetching: https://www.python.org/about/gettingstarted/\n",
            "    https://www.python.org/about/gettingstarted/\n",
            "Fetching: https://www.python.org/about/help/\n",
            "    https://www.python.org/about/help/\n",
            "Fetching: http://brochure.getpython.info/\n",
            "    http://brochure.getpython.info/\n",
            "Fetching: https://www.python.org/downloads/\n",
            "    https://www.python.org/downloads/\n",
            "Fetching: https://www.python.org/downloads/\n",
            "    https://www.python.org/downloads/\n",
            "Fetching: https://www.python.org/downloads/source/\n",
            "    https://www.python.org/downloads/source/\n",
            "Fetching: https://www.python.org/downloads/windows/\n",
            "    https://www.python.org/downloads/windows/\n",
            "Fetching: https://www.python.org/downloads/macos/\n",
            "    https://www.python.org/downloads/macos/\n",
            "Fetching: https://www.python.org/download/other/\n",
            "    https://www.python.org/download/other/\n",
            "Fetching: https://docs.python.org/3/license.html\n",
            "    https://docs.python.org/3/license.html\n",
            "Fetching: https://www.python.org/download/alternatives\n",
            "    https://www.python.org/download/alternatives\n",
            "Fetching: https://www.python.org/doc/\n",
            "    https://www.python.org/doc/\n",
            "Fetching: https://www.python.org/doc/\n",
            "    https://www.python.org/doc/\n",
            "Fetching: https://www.python.org/doc/av\n",
            "    https://www.python.org/doc/av\n",
            "Fetching: https://wiki.python.org/moin/BeginnersGuide\n",
            "    https://wiki.python.org/moin/BeginnersGuide\n",
            "Fetching: https://devguide.python.org/\n",
            "    https://devguide.python.org/\n",
            "Fetching: https://docs.python.org/faq/\n",
            "    https://docs.python.org/faq/\n",
            "Fetching: http://wiki.python.org/moin/Languages\n",
            "    http://wiki.python.org/moin/Languages\n",
            "Fetching: http://python.org/dev/peps/\n",
            "    http://python.org/dev/peps/\n",
            "Fetching: https://wiki.python.org/moin/PythonBooks\n",
            "    https://wiki.python.org/moin/PythonBooks\n",
            "Fetching: https://www.python.org/doc/essays/\n",
            "    https://www.python.org/doc/essays/\n",
            "Fetching: https://www.python.org/community/\n",
            "    https://www.python.org/community/\n",
            "Fetching: https://www.python.org/community/diversity/\n",
            "    https://www.python.org/community/diversity/\n",
            "Fetching: https://www.python.org/community/lists/\n",
            "    https://www.python.org/community/lists/\n",
            "Fetching: https://www.python.org/community/irc/\n",
            "    https://www.python.org/community/irc/\n",
            "Fetching: https://www.python.org/community/forums/\n",
            "    https://www.python.org/community/forums/\n",
            "Fetching: https://www.python.org/psf/annual-report/2021/\n",
            "    https://www.python.org/psf/annual-report/2021/\n",
            "Fetching: https://www.python.org/community/workshops/\n",
            "    https://www.python.org/community/workshops/\n",
            "Fetching: https://www.python.org/community/sigs/\n",
            "    https://www.python.org/community/sigs/\n",
            "Fetching: https://www.python.org/community/logos/\n",
            "    https://www.python.org/community/logos/\n",
            "Fetching: https://wiki.python.org/moin/\n",
            "    https://wiki.python.org/moin/\n",
            "Fetching: https://www.python.org/psf/conduct/\n",
            "    https://www.python.org/psf/conduct/\n",
            "Fetching: https://www.python.org/community/awards\n",
            "    https://www.python.org/community/awards\n",
            "Fetching: https://www.python.org/psf/get-involved/\n",
            "    https://www.python.org/psf/get-involved/\n",
            "Fetching: https://www.python.org/psf/community-stories/\n",
            "    https://www.python.org/psf/community-stories/\n",
            "Fetching: https://www.python.org/success-stories/\n",
            "    https://www.python.org/success-stories/\n",
            "Fetching: https://www.python.org/success-stories/category/arts/\n",
            "    https://www.python.org/success-stories/category/arts/\n",
            "Fetching: https://www.python.org/success-stories/category/business/\n",
            "    https://www.python.org/success-stories/category/business/\n",
            "Fetching: https://www.python.org/success-stories/category/education/\n",
            "    https://www.python.org/success-stories/category/education/\n",
            "Fetching: https://www.python.org/success-stories/category/engineering/\n",
            "    https://www.python.org/success-stories/category/engineering/\n",
            "Fetching: https://www.python.org/success-stories/category/government/\n",
            "    https://www.python.org/success-stories/category/government/\n",
            "Fetching: https://www.python.org/success-stories/category/scientific/\n",
            "    https://www.python.org/success-stories/category/scientific/\n",
            "Fetching: https://www.python.org/success-stories/category/software-development/\n",
            "    https://www.python.org/success-stories/category/software-development/\n",
            "Fetching: https://www.python.org/blogs/\n",
            "    https://www.python.org/blogs/\n",
            "Fetching: https://www.python.org/blogs/\n",
            "    https://www.python.org/blogs/\n",
            "Fetching: https://www.python.org/psf/newsletter/\n",
            "    https://www.python.org/psf/newsletter/\n",
            "Fetching: http://pyfound.blogspot.com/\n",
            "    http://pyfound.blogspot.com/\n",
            "Fetching: http://pycon.blogspot.com/\n",
            "    http://pycon.blogspot.com/\n",
            "Fetching: http://planetpython.org/\n",
            "    http://planetpython.org/\n",
            "Fetching: https://www.python.org/events/\n",
            "    https://www.python.org/events/\n",
            "Fetching: https://www.python.org/events/python-events/\n",
            "    https://www.python.org/events/python-events/\n",
            "Fetching: https://www.python.org/events/python-user-group/\n",
            "    https://www.python.org/events/python-user-group/\n",
            "Fetching: https://www.python.org/events/python-events/past/\n",
            "    https://www.python.org/events/python-events/past/\n",
            "Fetching: https://www.python.org/events/python-user-group/past/\n",
            "    https://www.python.org/events/python-user-group/past/\n",
            "Fetching: https://wiki.python.org/moin/PythonEventsCalendar#Submitting_an_Event\n",
            "    https://wiki.python.org/moin/PythonEventsCalendar#Submitting_an_Event\n",
            "Fetching: https://www.python.org/shell/\n",
            "    https://www.python.org/shell/\n",
            "Fetching: https://docs.python.org/3/tutorial/controlflow.html#defining-functions\n",
            "    https://docs.python.org/3/tutorial/controlflow.html#defining-functions\n",
            "Fetching: https://docs.python.org/3/tutorial/introduction.html#lists\n",
            "    https://docs.python.org/3/tutorial/introduction.html#lists\n",
            "Fetching: http://docs.python.org/3/tutorial/introduction.html#using-python-as-a-calculator\n",
            "    http://docs.python.org/3/tutorial/introduction.html#using-python-as-a-calculator\n",
            "Fetching: https://docs.python.org/3/tutorial/controlflow.html\n",
            "    https://docs.python.org/3/tutorial/controlflow.html\n",
            "Fetching: https://docs.python.org/3/tutorial/\n",
            "    https://docs.python.org/3/tutorial/\n",
            "Fetching: https://www.python.org/doc/\n",
            "    https://www.python.org/doc/\n",
            "Fetching: https://www.python.org/about/gettingstarted/\n",
            "    https://www.python.org/about/gettingstarted/\n",
            "Fetching: https://www.python.org/downloads/release/python-3114/\n",
            "    https://www.python.org/downloads/release/python-3114/\n",
            "Fetching: https://docs.python.org\n",
            "    https://docs.python.org\n",
            "Fetching: https://jobs.python.org\n",
            "    https://jobs.python.org\n",
            "Fetching: https://blog.python.org\n",
            "    https://blog.python.org\n",
            "Fetching: https://pyfound.blogspot.com/2023/06/announcing-2023-psf-board-election.html\n",
            "    https://pyfound.blogspot.com/2023/06/announcing-2023-psf-board-election.html\n",
            "Fetching: https://pyfound.blogspot.com/2023/06/announcing-our-new-security-developer.html\n",
            "    https://pyfound.blogspot.com/2023/06/announcing-our-new-security-developer.html\n",
            "Fetching: https://pythoninsider.blogspot.com/2023/06/python-3120-beta-3-released.html\n",
            "    https://pythoninsider.blogspot.com/2023/06/python-3120-beta-3-released.html\n",
            "Fetching: https://pyfound.blogspot.com/2023/06/the-2023-psf-board-election-is-open.html\n",
            "    https://pyfound.blogspot.com/2023/06/the-2023-psf-board-election-is-open.html\n",
            "Fetching: https://pyfound.blogspot.com/2023/06/board-candidates-for-2023-are-announced.html\n",
            "    https://pyfound.blogspot.com/2023/06/board-candidates-for-2023-are-announced.html\n",
            "Fetching: https://www.python.org/events/calendars/\n",
            "    https://www.python.org/events/calendars/\n",
            "Fetching: https://www.python.org/events/python-events/1557/\n",
            "    https://www.python.org/events/python-events/1557/\n",
            "Fetching: https://www.python.org/events/python-user-group/1556/\n",
            "    https://www.python.org/events/python-user-group/1556/\n",
            "Fetching: https://www.python.org/events/python-events/1455/\n",
            "    https://www.python.org/events/python-events/1455/\n",
            "Fetching: https://www.python.org/events/python-events/1398/\n",
            "    https://www.python.org/events/python-events/1398/\n",
            "Fetching: https://www.python.org/events/python-user-group/1505/\n",
            "    https://www.python.org/events/python-user-group/1505/\n",
            "Fetching: https://www.python.org/success-stories/\n",
            "    https://www.python.org/success-stories/\n",
            "Fetching: https://www.python.org/success-stories/lincoln-loop-building-a-sustainable-business-inspired-by-pythons-ethos/\n",
            "    https://www.python.org/success-stories/lincoln-loop-building-a-sustainable-business-inspired-by-pythons-ethos/\n",
            "Fetching: https://www.python.org/success-stories/lincoln-loop-building-a-sustainable-business-inspired-by-pythons-ethos/\n",
            "    https://www.python.org/success-stories/lincoln-loop-building-a-sustainable-business-inspired-by-pythons-ethos/\n",
            "Fetching: https://www.python.org/about/apps\n",
            "    https://www.python.org/about/apps\n",
            "Fetching: http://www.djangoproject.com/\n",
            "    http://www.djangoproject.com/\n",
            "Fetching: http://www.pylonsproject.org/\n",
            "    http://www.pylonsproject.org/\n",
            "Fetching: http://bottlepy.org\n",
            "    http://bottlepy.org\n",
            "Fetching: http://tornadoweb.org\n",
            "    http://tornadoweb.org\n",
            "Fetching: http://flask.pocoo.org/\n",
            "    http://flask.pocoo.org/\n",
            "Fetching: http://www.web2py.com/\n",
            "    http://www.web2py.com/\n",
            "Fetching: http://wiki.python.org/moin/TkInter\n",
            "    http://wiki.python.org/moin/TkInter\n",
            "Fetching: https://wiki.gnome.org/Projects/PyGObject\n",
            "    https://wiki.gnome.org/Projects/PyGObject\n",
            "Fetching: http://www.riverbankcomputing.co.uk/software/pyqt/intro\n",
            "    http://www.riverbankcomputing.co.uk/software/pyqt/intro\n",
            "Fetching: https://wiki.qt.io/PySide\n",
            "    https://wiki.qt.io/PySide\n",
            "Fetching: https://kivy.org/\n",
            "    https://kivy.org/\n",
            "Fetching: http://www.wxpython.org/\n",
            "    http://www.wxpython.org/\n",
            "Fetching: http://www.scipy.org\n",
            "    http://www.scipy.org\n",
            "Fetching: http://pandas.pydata.org/\n",
            "    http://pandas.pydata.org/\n",
            "Fetching: http://ipython.org\n",
            "    http://ipython.org\n",
            "Fetching: http://buildbot.net/\n",
            "    http://buildbot.net/\n",
            "Fetching: http://trac.edgewall.org/\n",
            "    http://trac.edgewall.org/\n",
            "Fetching: http://roundup.sourceforge.net/\n",
            "    http://roundup.sourceforge.net/\n",
            "Fetching: http://www.ansible.com\n",
            "    http://www.ansible.com\n",
            "Fetching: https://saltproject.io\n",
            "    https://saltproject.io\n",
            "Fetching: https://www.openstack.org\n",
            "    https://www.openstack.org\n",
            "Fetching: https://xon.sh\n",
            "    https://xon.sh\n",
            "Fetching: https://www.python.org/dev/peps/\n",
            "    https://www.python.org/dev/peps/\n",
            "Fetching: https://www.python.org/dev/peps/peps.rss\n",
            "    https://www.python.org/dev/peps/peps.rss\n",
            "Fetching: https://www.python.org/psf/\n",
            "    https://www.python.org/psf/\n",
            "Fetching: https://www.python.org/psf/\n",
            "    https://www.python.org/psf/\n",
            "Fetching: https://www.python.org/users/membership/\n",
            "    https://www.python.org/users/membership/\n",
            "Fetching: https://www.python.org/psf/donations/\n",
            "    https://www.python.org/psf/donations/\n",
            "Fetching: https://www.python.org/#python-network\n",
            "    https://www.python.org/#python-network\n",
            "Fetching: https://www.python.org/about/\n",
            "    https://www.python.org/about/\n",
            "Fetching: https://www.python.org/about/apps/\n",
            "    https://www.python.org/about/apps/\n",
            "Fetching: https://www.python.org/about/quotes/\n",
            "    https://www.python.org/about/quotes/\n",
            "Fetching: https://www.python.org/about/gettingstarted/\n",
            "    https://www.python.org/about/gettingstarted/\n",
            "Fetching: https://www.python.org/about/help/\n",
            "    https://www.python.org/about/help/\n",
            "Fetching: http://brochure.getpython.info/\n",
            "    http://brochure.getpython.info/\n",
            "Fetching: https://www.python.org/downloads/\n",
            "    https://www.python.org/downloads/\n",
            "Fetching: https://www.python.org/downloads/\n",
            "    https://www.python.org/downloads/\n",
            "Fetching: https://www.python.org/downloads/source/\n",
            "    https://www.python.org/downloads/source/\n",
            "Fetching: https://www.python.org/downloads/windows/\n",
            "    https://www.python.org/downloads/windows/\n",
            "Fetching: https://www.python.org/downloads/macos/\n",
            "    https://www.python.org/downloads/macos/\n",
            "Fetching: https://www.python.org/download/other/\n",
            "    https://www.python.org/download/other/\n",
            "Fetching: https://docs.python.org/3/license.html\n",
            "    https://docs.python.org/3/license.html\n",
            "Fetching: https://www.python.org/download/alternatives\n",
            "    https://www.python.org/download/alternatives\n",
            "Fetching: https://www.python.org/doc/\n",
            "    https://www.python.org/doc/\n",
            "Fetching: https://www.python.org/doc/\n",
            "    https://www.python.org/doc/\n",
            "Fetching: https://www.python.org/doc/av\n",
            "    https://www.python.org/doc/av\n",
            "Fetching: https://wiki.python.org/moin/BeginnersGuide\n",
            "    https://wiki.python.org/moin/BeginnersGuide\n",
            "Fetching: https://devguide.python.org/\n",
            "    https://devguide.python.org/\n",
            "Fetching: https://docs.python.org/faq/\n",
            "    https://docs.python.org/faq/\n",
            "Fetching: http://wiki.python.org/moin/Languages\n",
            "    http://wiki.python.org/moin/Languages\n",
            "Fetching: http://python.org/dev/peps/\n",
            "    http://python.org/dev/peps/\n",
            "Fetching: https://wiki.python.org/moin/PythonBooks\n",
            "    https://wiki.python.org/moin/PythonBooks\n",
            "Fetching: https://www.python.org/doc/essays/\n",
            "    https://www.python.org/doc/essays/\n",
            "Fetching: https://www.python.org/community/\n",
            "    https://www.python.org/community/\n",
            "Fetching: https://www.python.org/community/diversity/\n",
            "    https://www.python.org/community/diversity/\n",
            "Fetching: https://www.python.org/community/lists/\n",
            "    https://www.python.org/community/lists/\n",
            "Fetching: https://www.python.org/community/irc/\n",
            "    https://www.python.org/community/irc/\n",
            "Fetching: https://www.python.org/community/forums/\n",
            "    https://www.python.org/community/forums/\n",
            "Fetching: https://www.python.org/psf/annual-report/2021/\n",
            "    https://www.python.org/psf/annual-report/2021/\n",
            "Fetching: https://www.python.org/community/workshops/\n",
            "    https://www.python.org/community/workshops/\n",
            "Fetching: https://www.python.org/community/sigs/\n",
            "    https://www.python.org/community/sigs/\n",
            "Fetching: https://www.python.org/community/logos/\n",
            "    https://www.python.org/community/logos/\n",
            "Fetching: https://wiki.python.org/moin/\n",
            "    https://wiki.python.org/moin/\n",
            "Fetching: https://www.python.org/psf/conduct/\n",
            "    https://www.python.org/psf/conduct/\n",
            "Fetching: https://www.python.org/community/awards\n",
            "    https://www.python.org/community/awards\n",
            "Fetching: https://www.python.org/psf/get-involved/\n",
            "    https://www.python.org/psf/get-involved/\n",
            "Fetching: https://www.python.org/psf/community-stories/\n",
            "    https://www.python.org/psf/community-stories/\n",
            "Fetching: https://www.python.org/success-stories/\n",
            "    https://www.python.org/success-stories/\n",
            "Fetching: https://www.python.org/success-stories/category/arts/\n",
            "    https://www.python.org/success-stories/category/arts/\n",
            "Fetching: https://www.python.org/success-stories/category/business/\n",
            "    https://www.python.org/success-stories/category/business/\n",
            "Fetching: https://www.python.org/success-stories/category/education/\n",
            "    https://www.python.org/success-stories/category/education/\n",
            "Fetching: https://www.python.org/success-stories/category/engineering/\n",
            "    https://www.python.org/success-stories/category/engineering/\n",
            "Fetching: https://www.python.org/success-stories/category/government/\n",
            "    https://www.python.org/success-stories/category/government/\n",
            "Fetching: https://www.python.org/success-stories/category/scientific/\n",
            "    https://www.python.org/success-stories/category/scientific/\n",
            "Fetching: https://www.python.org/success-stories/category/software-development/\n",
            "    https://www.python.org/success-stories/category/software-development/\n",
            "Fetching: https://www.python.org/blogs/\n",
            "    https://www.python.org/blogs/\n",
            "Fetching: https://www.python.org/blogs/\n",
            "    https://www.python.org/blogs/\n",
            "Fetching: https://www.python.org/psf/newsletter/\n",
            "    https://www.python.org/psf/newsletter/\n",
            "Fetching: http://pyfound.blogspot.com/\n",
            "    http://pyfound.blogspot.com/\n",
            "Fetching: http://pycon.blogspot.com/\n",
            "    http://pycon.blogspot.com/\n",
            "Fetching: http://planetpython.org/\n",
            "    http://planetpython.org/\n",
            "Fetching: https://www.python.org/events/\n",
            "    https://www.python.org/events/\n",
            "Fetching: https://www.python.org/events/python-events/\n",
            "    https://www.python.org/events/python-events/\n",
            "Fetching: https://www.python.org/events/python-user-group/\n",
            "    https://www.python.org/events/python-user-group/\n",
            "Fetching: https://www.python.org/events/python-events/past/\n",
            "    https://www.python.org/events/python-events/past/\n",
            "Fetching: https://www.python.org/events/python-user-group/past/\n",
            "    https://www.python.org/events/python-user-group/past/\n",
            "Fetching: https://wiki.python.org/moin/PythonEventsCalendar#Submitting_an_Event\n",
            "    https://wiki.python.org/moin/PythonEventsCalendar#Submitting_an_Event\n",
            "Fetching: https://www.python.org/dev/\n",
            "    https://www.python.org/dev/\n",
            "Fetching: https://devguide.python.org/\n",
            "    https://devguide.python.org/\n",
            "Fetching: https://bugs.python.org/\n",
            "    https://bugs.python.org/\n",
            "Fetching: https://mail.python.org/mailman/listinfo/python-dev\n",
            "    https://mail.python.org/mailman/listinfo/python-dev\n",
            "Fetching: https://www.python.org/dev/core-mentorship/\n",
            "    https://www.python.org/dev/core-mentorship/\n",
            "Fetching: https://www.python.org/dev/security/\n",
            "    https://www.python.org/dev/security/\n",
            "Fetching: https://www.python.org/#python-network\n",
            "    https://www.python.org/#python-network\n",
            "Fetching: https://www.python.org/about/help/\n",
            "    https://www.python.org/about/help/\n",
            "Fetching: https://www.python.org/community/diversity/\n",
            "    https://www.python.org/community/diversity/\n",
            "Fetching: https://github.com/python/pythondotorg/issues\n",
            "    https://github.com/python/pythondotorg/issues\n",
            "Fetching: https://status.python.org/\n",
            "    https://status.python.org/\n",
            "Fetching: https://www.python.org/psf-landing/\n",
            "    https://www.python.org/psf-landing/\n",
            "Fetching: https://www.python.org/about/legal/\n",
            "    https://www.python.org/about/legal/\n",
            "Fetching: https://www.python.org/privacy/\n",
            "    https://www.python.org/privacy/\n",
            "Fetching: https://www.python.org/psf/sponsorship/sponsors/#heroku\n",
            "    https://www.python.org/psf/sponsorship/sponsors/#heroku\n"
          ]
        }
      ]
    },
    {
      "cell_type": "markdown",
      "source": [
        "##Question 8\n",
        "\n",
        "a) SQL query to return all the temperature data:\n",
        "\n",
        "\n",
        "```\n",
        "SELECT Temperature\n",
        "FROM table_name;\n",
        "\n",
        "```\n",
        "\n",
        "b) SQL query to return all the cities without repetition:\n",
        "\n",
        "\n",
        "```\n",
        "SELECT DISTINCT City\n",
        "FROM table_name;\n",
        "\n",
        "```\n",
        "\n",
        "c) SQL query to return all the records for India:\n",
        "\n",
        "\n",
        "```\n",
        "SELECT *\n",
        "FROM table_name\n",
        "WHERE Country = 'India';\n",
        "\n",
        "```\n",
        "\n",
        "d) SQL query to return all the Fall records:\n",
        "\n",
        "\n",
        "```\n",
        "SELECT *\n",
        "FROM table_name\n",
        "WHERE Season = 'Fall';\n",
        "\n",
        "```\n",
        "\n",
        "e) SQL query to return the city, country, and season for which the average rainfall is between 200 and 400 millimeters:\n",
        "\n",
        "\n",
        "```\n",
        "SELECT City, Country, Season\n",
        "FROM table_name\n",
        "WHERE Rainfall >= 200 AND Rainfall <= 400;\n",
        "\n",
        "```\n",
        "\n",
        "f) SQL query to return the city and country for which the average Fall temperature is above 20 degrees, in increasing temperature order:\n",
        "\n",
        "\n",
        "```\n",
        "SELECT City, Country\n",
        "FROM table_name\n",
        "WHERE Season = 'Fall'\n",
        "GROUP BY City, Country\n",
        "HAVING AVG(Temperature) > 20\n",
        "ORDER BY AVG(Temperature) ASC;\n",
        "\n",
        "```\n",
        "\n",
        "g) SQL query to calculate the total annual rainfall for Cairo:\n",
        "\n",
        "\n",
        "```\n",
        "SELECT SUM(Rainfall) AS TotalRainfall\n",
        "FROM table_name\n",
        "WHERE City = 'Cairo';\n",
        "\n",
        "```\n",
        "\n",
        "h) SQL query to calculate the total rainfall for each season:\n",
        "\n",
        "\n",
        "```\n",
        "SELECT Season, SUM(Rainfall) AS TotalRainfall\n",
        "FROM table_name\n",
        "GROUP BY Season;\n",
        "\n",
        "```\n",
        "\n",
        "\n"
      ],
      "metadata": {
        "id": "nYZNieLXBtHE"
      }
    },
    {
      "cell_type": "markdown",
      "source": [
        "##Question 9\n",
        "\n",
        "Suppose list words is defined as follows:\n",
        ">>>  words  =  ['The',  'quick',  'brown',  'fox',  'jumps',  'over', 'the',  'lazy',  'dog']\n",
        "\n",
        "Write list comprehension expressions that use list words and generate the following lists:\n",
        "\n",
        "a) ['THE',  'QUICK',  'BROWN',  'FOX',  'JUMPS',  'OVER',  'THE', 'LAZY',  'DOG']\n",
        "\n",
        "b) ['the',  'quick',  'brown',  'fox',  'jumps',  'over',  'the', 'lazy',  'dog']\n",
        "\n",
        "c) [3,  5,  5,  3,  5,  4,  3,  4,  3] (the list of lengths of words in list words).\n",
        "\n",
        "d) [['THE',  'the',  3],  ['QUICK',  'quick',  5],  ['BROWN', 'brown',  5],  ['FOX',  'fox',  3],  ['JUMPS',  'jumps',  5], ['OVER',  'over',  4],  ['THE',  'the',  3],  ['LAZY',  'lazy', 4],  ['DOG',  'dog',  3]] (the list containing a list for every word of list words, where each list contains the word in uppercase and lowercase and the length of the word.)\n",
        "\n",
        "e) ['The',  'quick',  'brown',  'fox',  'jumps',  'over',  'the', 'lazy',  'dog'] (the list of words in list words containing 4 or more characters.)"
      ],
      "metadata": {
        "id": "JaOaKWiJKfEd"
      }
    },
    {
      "cell_type": "code",
      "source": [
        "words = ['The', 'quick', 'brown', 'fox', 'jumps', 'over', 'the', 'lazy', 'dog']\n",
        "\n",
        "#a) List comprehension to generate the list of words in uppercase:\n",
        "uppercase_words = [word.upper() for word in words]\n",
        "\n",
        "#b) List comprehension to generate the list of words in lowercase:\n",
        "lowercase_words = [word.lower() for word in words]\n",
        "\n",
        "#c) List comprehension to generate the list of lengths of words:\n",
        "word_lengths = [len(word) for word in words]\n",
        "\n",
        "#d) List comprehension to generate a list of lists containing the word in uppercase, lowercase, and length of the word:\n",
        "word_info = [[word.upper(), word.lower(), len(word)] for word in words]\n",
        "\n",
        "#e) List comprehension to generate the list of words containing 4 or more characters:\n",
        "words_4_or_more_chars = [word for word in words if len(word) >= 4]\n"
      ],
      "metadata": {
        "id": "dihTCf_b9D61"
      },
      "execution_count": 9,
      "outputs": []
    },
    {
      "cell_type": "code",
      "source": [
        "print(uppercase_words)\n",
        "print(lowercase_words)\n",
        "print(word_info)\n",
        "print(word_lengths)\n",
        "print(words_4_or_more_chars)"
      ],
      "metadata": {
        "colab": {
          "base_uri": "https://localhost:8080/"
        },
        "id": "iv7VcsYHLdmz",
        "outputId": "27b3e212-80d2-4f63-c2b0-b60fb97796e0"
      },
      "execution_count": 10,
      "outputs": [
        {
          "output_type": "stream",
          "name": "stdout",
          "text": [
            "['THE', 'QUICK', 'BROWN', 'FOX', 'JUMPS', 'OVER', 'THE', 'LAZY', 'DOG']\n",
            "['the', 'quick', 'brown', 'fox', 'jumps', 'over', 'the', 'lazy', 'dog']\n",
            "[['THE', 'the', 3], ['QUICK', 'quick', 5], ['BROWN', 'brown', 5], ['FOX', 'fox', 3], ['JUMPS', 'jumps', 5], ['OVER', 'over', 4], ['THE', 'the', 3], ['LAZY', 'lazy', 4], ['DOG', 'dog', 3]]\n",
            "[3, 5, 5, 3, 5, 4, 3, 4, 3]\n",
            "['quick', 'brown', 'jumps', 'over', 'lazy']\n"
          ]
        }
      ]
    },
    {
      "cell_type": "code",
      "source": [],
      "metadata": {
        "id": "Wwt69pD9Lr9t"
      },
      "execution_count": null,
      "outputs": []
    }
  ]
}